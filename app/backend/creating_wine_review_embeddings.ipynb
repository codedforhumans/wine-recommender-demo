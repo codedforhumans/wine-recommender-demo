{
 "cells": [
  {
   "cell_type": "markdown",
   "metadata": {},
   "source": [
    "## Wine Embeddings and a Wine Recommender\n",
    "\n",
    "### 1. Introduction\n",
    "\n",
    "One of the cornerstones of every chapter of the Robosomm series has been to extract descriptors from professional wine reviews, and to convert these into quantitative features. In doing so, we want to put ourselves in the shoes of a blind taster and extract only those descriptors that could be derived without knowing what the wine actually is. \n",
    "\n",
    "In this notebook, we will combine a couple of best-practice approaches highlighted in the existing literature on this subject and create an embedding for each wine review. We will use this to build a simple wine recommender."
   ]
  },
  {
   "cell_type": "code",
   "execution_count": 1,
   "metadata": {
    "tags": []
   },
   "outputs": [],
   "source": [
    "import os\n",
    "import pandas as pd\n",
    "import numpy as np\n",
    "import string\n",
    "from operator import itemgetter\n",
    "from collections import Counter, OrderedDict\n",
    "\n",
    "from nltk.tokenize import word_tokenize, sent_tokenize\n",
    "from nltk.stem import SnowballStemmer\n",
    "from nltk.corpus import stopwords\n",
    "\n",
    "from gensim.models.phrases import Phrases, Phraser\n",
    "from gensim.models import Word2Vec\n",
    "\n",
    "from sklearn.feature_extraction.text import TfidfVectorizer\n",
    "from sklearn.metrics.pairwise import cosine_similarity\n",
    "from sklearn.neighbors import NearestNeighbors\n",
    "from sklearn.decomposition import PCA\n",
    "from matplotlib import pyplot as plt"
   ]
  },
  {
   "cell_type": "markdown",
   "metadata": {},
   "source": [
    "### 1. The Raw Dataset\n",
    "\n",
    "The raw dataset consists of roughly 180,000 wine reviews from www.winemag.com. These reviews span about 20 years and a few dozen grape varieties. These reviews have been scraped one variety at a time, so the first step is to consolidate the various CSV files with the results of the scraping exercise."
   ]
  },
  {
   "cell_type": "code",
   "execution_count": 2,
   "metadata": {
    "tags": []
   },
   "outputs": [
    {
     "name": "stdout",
     "output_type": "stream",
     "text": [
      "['all_scraped_wine_info_Gamay.csv', 'misc', 'all_scraped_wine_info_sauvignon_blanc.csv', 'all_scraped_wine_info_Viognier.csv', 'all_scraped_wine_info_Syrah.csv', 'all_scraped_wine_info_Chardonnay.csv', '.DS_Store', 'all_scraped_wine_info_SparklingBlend.csv', 'bin', 'all_scraped_wine_info_CabernetSauvignon.csv', 'all_scraped_wine_info_Bordeaux-styleRedBlend.csv', 'all_scraped_wine_info_WhiteBlend.csv', 'all_scraped_wine_info_PinotNoir.csv', 'all_scraped_wine_info_Merlot.csv', 'all_scraped_wine_info_Malbec.csv', 'all_scraped_wine_info_Rhone-styleRedBlend.csv', 'all_scraped_wine_info_Nebbiolo.csv', 'all_scraped_wine_info_RedBlend.csv', 'all_scraped_wine_info_PinotGris.csv', 'all_scraped_wine_info_Sangiovese.csv', 'all_scraped_wine_info_PortugueseRed.csv', 'descriptor', '.ipynb_checkpoints', 'all_scraped_wine_info_PortugueseWhite.csv', 'all_scraped_wine_info_CabernetFranc.csv', 'all_scraped_wine_info_GrunerVeltliner.csv', 'all_scraped_wine_info_zinfandel.csv', 'all_scraped_wine_info_riesling.csv', 'all_scraped_wine_info_Tempranillo.csv', 'all_scraped_wine_info_Rose.csv']\n"
     ]
    }
   ],
   "source": [
    "print(os.listdir(r'/Users/saruul/Desktop/c4h/Wine/wine_demo/data/'))"
   ]
  },
  {
   "cell_type": "code",
   "execution_count": 3,
   "metadata": {
    "tags": []
   },
   "outputs": [
    {
     "name": "stdout",
     "output_type": "stream",
     "text": [
      "all_scraped_wine_info_Gamay.csv\n",
      "all_scraped_wine_info_sauvignon_blanc.csv\n",
      "all_scraped_wine_info_Viognier.csv\n",
      "all_scraped_wine_info_Syrah.csv\n",
      "all_scraped_wine_info_Chardonnay.csv\n",
      "all_scraped_wine_info_SparklingBlend.csv\n",
      "all_scraped_wine_info_CabernetSauvignon.csv\n",
      "all_scraped_wine_info_Bordeaux-styleRedBlend.csv\n",
      "all_scraped_wine_info_WhiteBlend.csv\n",
      "all_scraped_wine_info_PinotNoir.csv\n",
      "all_scraped_wine_info_Merlot.csv\n",
      "all_scraped_wine_info_Malbec.csv\n",
      "all_scraped_wine_info_Rhone-styleRedBlend.csv\n",
      "all_scraped_wine_info_Nebbiolo.csv\n",
      "all_scraped_wine_info_RedBlend.csv\n",
      "all_scraped_wine_info_PinotGris.csv\n",
      "all_scraped_wine_info_Sangiovese.csv\n",
      "all_scraped_wine_info_PortugueseRed.csv\n",
      "all_scraped_wine_info_PortugueseWhite.csv\n",
      "all_scraped_wine_info_CabernetFranc.csv\n",
      "all_scraped_wine_info_GrunerVeltliner.csv\n",
      "all_scraped_wine_info_zinfandel.csv\n",
      "all_scraped_wine_info_riesling.csv\n",
      "all_scraped_wine_info_Tempranillo.csv\n",
      "all_scraped_wine_info_Rose.csv\n",
      "(23090, 23)\n"
     ]
    }
   ],
   "source": [
    "base_location = r'/Users/saruul/Desktop/c4h/Wine/wine_demo/data/'\n",
    "\n",
    "i = 0\n",
    "for file in os.listdir(base_location):\n",
    "    if file.endswith ('.csv'):\n",
    "        file_location = base_location + '/' + str(file)\n",
    "        print(file)\n",
    "        if i==0:\n",
    "            wine_dataframe = pd.read_csv(file_location, encoding='latin-1')\n",
    "            i+=1\n",
    "        else:\n",
    "            df_to_append = pd.read_csv(file_location, encoding='latin-1', low_memory=False)\n",
    "            wine_dataframe = pd.concat([wine_dataframe, df_to_append], axis=0)\n",
    "\n",
    "wine_dataframe.drop_duplicates(subset=['Name'], inplace=True)\n",
    "print(wine_dataframe.shape)"
   ]
  },
  {
   "cell_type": "markdown",
   "metadata": {},
   "source": [
    "### 2. Extracting Wine Descrpitors\n",
    "\n",
    "To begin this analysis, we need to extract descriptors from our reviews and create a categorization of these descriptors at various levels of specificity. Here, I drew inspiration from some of the great work by Bernard Chen and others on the Computational Wine Wheel (https://www.springerprofessional.de/en/the-computational-wine-wheel-2-0-and-the-trimax-triclustering-in/10290536). \n",
    "\n",
    "Descriptors are extracted in a few steps, outlined in the cells below: first, all the wine reviews are conslidated into one large corpus. They are then tokenized into sentences."
   ]
  },
  {
   "cell_type": "code",
   "execution_count": 4,
   "metadata": {
    "tags": []
   },
   "outputs": [
    {
     "name": "stdout",
     "output_type": "stream",
     "text": [
      "['Quite hazy in the glass, this bottling is sharp on the nose with plum-skin and snappy currant aromas, as loamy soil and cracked pepper scents add nuance.', 'While the mouthfeel is full and broad, the This rather new grape for the Santa Barbara regions comes from a brand-new planting near Los Alamos.', 'Muddled berry and purple-flower aromas meet with loamy soil scents on the nose.', 'The palate is juicy A ripe wine with soft fruit and equally light tannins, this is full of red fruits and balanced acidity.', 'It is very ready to drink.']\n"
     ]
    }
   ],
   "source": [
    "reviews_list = list(wine_dataframe['Description'])\n",
    "reviews_list = [str(r) for r in reviews_list]\n",
    "full_corpus = ' '.join(reviews_list)\n",
    "sentences_tokenized = sent_tokenize(full_corpus)\n",
    "\n",
    "print(sentences_tokenized[:5])"
   ]
  },
  {
   "cell_type": "markdown",
   "metadata": {},
   "source": [
    "Next, the text in each sentence is normalized (tokenize, remove punctuation and remove stopwords)."
   ]
  },
  {
   "cell_type": "code",
   "execution_count": 5,
   "metadata": {
    "tags": []
   },
   "outputs": [],
   "source": [
    "stop_words = set(stopwords.words('english')) \n",
    "\n",
    "punctuation_table = str.maketrans({key: None for key in string.punctuation})\n",
    "sno = SnowballStemmer('english')\n",
    "\n",
    "def normalize_text(raw_text):\n",
    "    try:\n",
    "        word_list = word_tokenize(raw_text)\n",
    "        normalized_sentence = []\n",
    "        for w in word_list:\n",
    "            try:\n",
    "                w = str(w)\n",
    "                lower_case_word = str.lower(w)\n",
    "                stemmed_word = sno.stem(lower_case_word)\n",
    "                no_punctuation = stemmed_word.translate(punctuation_table)\n",
    "                if len(no_punctuation) > 1 and no_punctuation not in stop_words:\n",
    "                    normalized_sentence.append(no_punctuation)\n",
    "            except:\n",
    "                continue\n",
    "        return normalized_sentence\n",
    "    except:\n",
    "        return ''\n",
    "\n",
    "# sentence_sample = sentences_tokenized[:10]\n",
    "normalized_sentences = []\n",
    "for s in sentences_tokenized:\n",
    "    normalized_text = normalize_text(s)\n",
    "    normalized_sentences.append(normalized_text)"
   ]
  },
  {
   "cell_type": "markdown",
   "metadata": {},
   "source": [
    "Not all of the terms we are interested in are single words. Some of the terms are phrases, consisting of two (or more!) words. An example of this might be 'high tannin'. We can use gensim's Phrases feature to extract all the most relevant bi- and tri-grams from our corpus."
   ]
  },
  {
   "cell_type": "code",
   "execution_count": 6,
   "metadata": {
    "tags": []
   },
   "outputs": [],
   "source": [
    "phrases = Phrases(normalized_sentences)\n",
    "phrases = Phrases(phrases[normalized_sentences])\n",
    "\n",
    "ngrams = Phraser(phrases)\n",
    "\n",
    "phrased_sentences = []\n",
    "for sent in normalized_sentences:\n",
    "    phrased_sentence = ngrams[sent]\n",
    "    phrased_sentences.append(phrased_sentence)\n",
    "\n",
    "full_list_words = [item for sublist in phrased_sentences for item in sublist]"
   ]
  },
  {
   "cell_type": "markdown",
   "metadata": {},
   "source": [
    "Next, we will extract the most common words and rank these by how frequently they appear."
   ]
  },
  {
   "cell_type": "code",
   "execution_count": 7,
   "metadata": {
    "tags": []
   },
   "outputs": [],
   "source": [
    "word_counts = Counter(full_list_words)\n",
    "sorted_counts = OrderedDict(word_counts.most_common(5000))\n",
    "counter_df = pd.DataFrame.from_dict(sorted_counts, orient='index')\n",
    "# top_5000_words = counter_df.head(5000)\n",
    "counter_df.to_csv('top_5000_descriptors.csv')"
   ]
  },
  {
   "cell_type": "markdown",
   "metadata": {},
   "source": [
    "Now for the most important part: leveraging existing wine theory, the work of others like Bernard Chen, wine descriptor mappings and the UC Davis wine wheel, the top 5000 most frequent wine terms were reviewed to (i) determine whether they are a descriptor that can be derived by blind tasting, and (ii) whether they are informative (judgments like 'tasty' and 'great' are not considered to be informative). The roughly 1000 descriptors that remain were then mapped onto a normalized descriptor, a category and a class:"
   ]
  },
  {
   "cell_type": "code",
   "execution_count": 12,
   "metadata": {
    "tags": []
   },
   "outputs": [
    {
     "data": {
      "text/html": [
       "<div>\n",
       "<style scoped>\n",
       "    .dataframe tbody tr th:only-of-type {\n",
       "        vertical-align: middle;\n",
       "    }\n",
       "\n",
       "    .dataframe tbody tr th {\n",
       "        vertical-align: top;\n",
       "    }\n",
       "\n",
       "    .dataframe thead th {\n",
       "        text-align: right;\n",
       "    }\n",
       "</style>\n",
       "<table border=\"1\" class=\"dataframe\">\n",
       "  <thead>\n",
       "    <tr style=\"text-align: right;\">\n",
       "      <th></th>\n",
       "      <th>level_3</th>\n",
       "      <th>level_2</th>\n",
       "      <th>level_1</th>\n",
       "    </tr>\n",
       "    <tr>\n",
       "      <th>raw descriptor</th>\n",
       "      <th></th>\n",
       "      <th></th>\n",
       "      <th></th>\n",
       "    </tr>\n",
       "  </thead>\n",
       "  <tbody>\n",
       "    <tr>\n",
       "      <th>abras</th>\n",
       "      <td>abrasive</td>\n",
       "      <td>high_tannin</td>\n",
       "      <td>tannin</td>\n",
       "    </tr>\n",
       "    <tr>\n",
       "      <th>acacia</th>\n",
       "      <td>acacia</td>\n",
       "      <td>flowery</td>\n",
       "      <td>flower</td>\n",
       "    </tr>\n",
       "    <tr>\n",
       "      <th>acacia_flower</th>\n",
       "      <td>acacia</td>\n",
       "      <td>flowery</td>\n",
       "      <td>flower</td>\n",
       "    </tr>\n",
       "    <tr>\n",
       "      <th>aciddriven</th>\n",
       "      <td>acid_driven</td>\n",
       "      <td>high_acid</td>\n",
       "      <td>acid</td>\n",
       "    </tr>\n",
       "    <tr>\n",
       "      <th>aggress</th>\n",
       "      <td>aggressive</td>\n",
       "      <td>high_acid</td>\n",
       "      <td>acid</td>\n",
       "    </tr>\n",
       "    <tr>\n",
       "      <th>airi</th>\n",
       "      <td>airy</td>\n",
       "      <td>light_bodied</td>\n",
       "      <td>body</td>\n",
       "    </tr>\n",
       "    <tr>\n",
       "      <th>allspic</th>\n",
       "      <td>allspice</td>\n",
       "      <td>baking_spices</td>\n",
       "      <td>spice</td>\n",
       "    </tr>\n",
       "    <tr>\n",
       "      <th>almond</th>\n",
       "      <td>almond</td>\n",
       "      <td>nutty</td>\n",
       "      <td>nutty</td>\n",
       "    </tr>\n",
       "    <tr>\n",
       "      <th>almond_past</th>\n",
       "      <td>almond</td>\n",
       "      <td>nutty</td>\n",
       "      <td>nutty</td>\n",
       "    </tr>\n",
       "    <tr>\n",
       "      <th>marzipan</th>\n",
       "      <td>almond</td>\n",
       "      <td>nutty</td>\n",
       "      <td>nutty</td>\n",
       "    </tr>\n",
       "  </tbody>\n",
       "</table>\n",
       "</div>"
      ],
      "text/plain": [
       "                    level_3        level_2 level_1\n",
       "raw descriptor                                    \n",
       "abras              abrasive    high_tannin  tannin\n",
       "acacia               acacia        flowery  flower\n",
       "acacia_flower        acacia        flowery  flower\n",
       "aciddriven      acid_driven      high_acid    acid\n",
       "aggress          aggressive      high_acid    acid\n",
       "airi                   airy   light_bodied    body\n",
       "allspic            allspice  baking_spices   spice\n",
       "almond               almond          nutty   nutty\n",
       "almond_past          almond          nutty   nutty\n",
       "marzipan             almond          nutty   nutty"
      ]
     },
     "execution_count": 12,
     "metadata": {},
     "output_type": "execute_result"
    }
   ],
   "source": [
    "descriptor_mapping = pd.read_csv('../data/descriptor/descriptor_mapping.csv').set_index('raw descriptor')\n",
    "descriptor_mapping.head(10)"
   ]
  },
  {
   "cell_type": "markdown",
   "metadata": {},
   "source": [
    "Next, any terms in the corpus that appear in the overview above are mapped onto the 'level_3' (the most specific) layer in the table."
   ]
  },
  {
   "cell_type": "code",
   "execution_count": 13,
   "metadata": {
    "tags": []
   },
   "outputs": [],
   "source": [
    "def return_mapped_descriptor(word):\n",
    "    if word in list(descriptor_mapping.index):\n",
    "        normalized_word = descriptor_mapping['level_3'][word]\n",
    "        return normalized_word\n",
    "    else:\n",
    "        return word\n",
    "\n",
    "normalized_sentences = []\n",
    "for sent in phrased_sentences:\n",
    "    normalized_sentence = []\n",
    "    for word in sent:\n",
    "        normalized_word = return_mapped_descriptor(word)\n",
    "        normalized_sentence += [str(normalized_word)]\n",
    "    normalized_sentences += [normalized_sentence]"
   ]
  },
  {
   "cell_type": "markdown",
   "metadata": {
    "tags": []
   },
   "source": [
    "### 3. From Wine Descriptors to Word Embeddings\n",
    "\n",
    "We can now proceed to train a Word2Vec model on our normalized and descriptor-mapped corpus. This will allow us to get a word embedding for every term in the corpus. In order to reduce the overall size of the corpus, we will exclude any terms that appear fewer than 5 times across all the wine reviews."
   ]
  },
  {
   "cell_type": "code",
   "execution_count": 14,
   "metadata": {
    "tags": []
   },
   "outputs": [
    {
     "name": "stdout",
     "output_type": "stream",
     "text": [
      "Word2Vec<vocab=4737, vector_size=300, alpha=0.025>\n"
     ]
    }
   ],
   "source": [
    "wine_word2vec_model = Word2Vec(normalized_sentences, vector_size=300, min_count=5, epochs=15)\n",
    "print(wine_word2vec_model)\n",
    "\n",
    "wine_word2vec_model.save('../data/bin/wine_word2vec_model.bin')"
   ]
  },
  {
   "cell_type": "markdown",
   "metadata": {},
   "source": [
    "Let's take a closer look at our trained Word2Vec model - what wine descriptors are most similar to the word 'peach'?"
   ]
  },
  {
   "cell_type": "code",
   "execution_count": 15,
   "metadata": {
    "tags": []
   },
   "outputs": [
    {
     "data": {
      "text/plain": [
       "[('honeydew', 0.7931021451950073),\n",
       " ('grapefruit', 0.7865452170372009),\n",
       " ('guava', 0.7694220542907715),\n",
       " ('tangerine', 0.7671331167221069),\n",
       " ('stone_fruit', 0.7664572596549988),\n",
       " ('nectarine', 0.7661294937133789),\n",
       " ('cataloupe', 0.7612780928611755),\n",
       " ('green_melon', 0.7593855857849121),\n",
       " ('papaya', 0.7563067674636841),\n",
       " ('quince', 0.7488659024238586)]"
      ]
     },
     "execution_count": 15,
     "metadata": {},
     "output_type": "execute_result"
    }
   ],
   "source": [
    "wine_word2vec_model.wv.most_similar(positive='peach', topn=10)"
   ]
  },
  {
   "cell_type": "code",
   "execution_count": 16,
   "metadata": {
    "tags": []
   },
   "outputs": [],
   "source": [
    "# wine_word2vec_model.wv.most_similar(positive='aesthetic', topn=10) - no aesthetic yet"
   ]
  },
  {
   "cell_type": "markdown",
   "metadata": {},
   "source": [
    "Excellent! These words are all relatively similar to the word peach. It seems that our Word2Vec model is working well. \n",
    "\n",
    "### 4. From Word Embeddings to Wine Review Embeddings\n",
    "\n",
    "Now, we need to find a way to create a single embedding for each wine review, combining all the relevant word embeddings contained within it.\n",
    "\n",
    "First, we will extract a set of mapped & normalized descriptors from each wine review. Unlike when we were training our Word2Vec model (when in-between words with semantic meaning could help create more accurate embeddings), we will remove any descriptors that do not feature in our list of 1000 curated descriptors. "
   ]
  },
  {
   "cell_type": "code",
   "execution_count": 17,
   "metadata": {
    "tags": []
   },
   "outputs": [],
   "source": [
    "wine_reviews = list(wine_dataframe['Description'])\n",
    "\n",
    "def return_descriptor_from_mapping(word):\n",
    "    if word in list(descriptor_mapping.index):\n",
    "        descriptor_to_return = descriptor_mapping['level_3'][word]\n",
    "        return descriptor_to_return\n",
    "\n",
    "descriptorized_reviews = []\n",
    "for review in wine_reviews:\n",
    "    normalized_review = normalize_text(review)\n",
    "    phrased_review = ngrams[normalized_review]\n",
    "    descriptors_only = [return_descriptor_from_mapping(word) for word in phrased_review]\n",
    "    no_nones = [str(d) for d in descriptors_only if d is not None]\n",
    "    descriptorized_review = ' '.join(no_nones)\n",
    "    descriptorized_reviews.append(descriptorized_review)"
   ]
  },
  {
   "cell_type": "markdown",
   "metadata": {
    "tags": []
   },
   "source": [
    "Not all descriptors are equally distinctive - 'fruity', for instance, is likely to appear very frequently across all wine reviews, whereas 'licorice' is much less common. In computing our 'review' embedding, we want to give a higher weighting to terms that are more infrequent in relative terms. We will do this by multiplying each word embedding by a TF-IDF (term frequency inverse document frequency) weighting. This takes into consideration both the frequency of each term across all reviews, as well as the number of descriptors in each wine review. "
   ]
  },
  {
   "cell_type": "code",
   "execution_count": null,
   "metadata": {
    "tags": []
   },
   "outputs": [],
   "source": []
  },
  {
   "cell_type": "code",
   "execution_count": 18,
   "metadata": {
    "tags": []
   },
   "outputs": [
    {
     "data": {
      "text/html": [
       "<div>\n",
       "<style scoped>\n",
       "    .dataframe tbody tr th:only-of-type {\n",
       "        vertical-align: middle;\n",
       "    }\n",
       "\n",
       "    .dataframe tbody tr th {\n",
       "        vertical-align: top;\n",
       "    }\n",
       "\n",
       "    .dataframe thead th {\n",
       "        text-align: right;\n",
       "    }\n",
       "</style>\n",
       "<table border=\"1\" class=\"dataframe\">\n",
       "  <thead>\n",
       "    <tr style=\"text-align: right;\">\n",
       "      <th></th>\n",
       "      <th>index</th>\n",
       "      <th>Unnamed: 0</th>\n",
       "      <th>Alcohol</th>\n",
       "      <th>Appellation</th>\n",
       "      <th>Bottle Size</th>\n",
       "      <th>Category</th>\n",
       "      <th>Country</th>\n",
       "      <th>Date Published</th>\n",
       "      <th>Description</th>\n",
       "      <th>Designation</th>\n",
       "      <th>...</th>\n",
       "      <th>Reviewer Twitter Handle</th>\n",
       "      <th>Subregion</th>\n",
       "      <th>User Avg Rating</th>\n",
       "      <th>Variety</th>\n",
       "      <th>Vintage</th>\n",
       "      <th>Winery</th>\n",
       "      <th>Unnamed: 0.1</th>\n",
       "      <th>normalized_descriptors</th>\n",
       "      <th>review_vector</th>\n",
       "      <th>descriptor_count</th>\n",
       "    </tr>\n",
       "  </thead>\n",
       "  <tbody>\n",
       "    <tr>\n",
       "      <th>0</th>\n",
       "      <td>0</td>\n",
       "      <td>0</td>\n",
       "      <td>13.1%</td>\n",
       "      <td>San Luis Obispo County, Central Coast, Califor...</td>\n",
       "      <td>750 ml</td>\n",
       "      <td>NaN</td>\n",
       "      <td>US</td>\n",
       "      <td>1970-01-01T00:00:00+00:00</td>\n",
       "      <td>Quite hazy in the glass, this bottling is shar...</td>\n",
       "      <td>Topotero Vineyard</td>\n",
       "      <td>...</td>\n",
       "      <td>@WineEnthusiast</td>\n",
       "      <td>San Luis Obispo County</td>\n",
       "      <td>NaN</td>\n",
       "      <td>Gamay</td>\n",
       "      <td>2021.0</td>\n",
       "      <td>Scar of the Sea</td>\n",
       "      <td>NaN</td>\n",
       "      <td>[sharp, plum, snappy, currant, pepper]</td>\n",
       "      <td>[[1.5738119, -1.0182891, -0.90251255, -1.38017...</td>\n",
       "      <td>5</td>\n",
       "    </tr>\n",
       "    <tr>\n",
       "      <th>1</th>\n",
       "      <td>1</td>\n",
       "      <td>1</td>\n",
       "      <td>13%</td>\n",
       "      <td>Alisos Canyon, Central Coast, California, US</td>\n",
       "      <td>750 ml</td>\n",
       "      <td>NaN</td>\n",
       "      <td>US</td>\n",
       "      <td>1970-01-01T00:00:00+00:00</td>\n",
       "      <td>This rather new grape for the Santa Barbara re...</td>\n",
       "      <td>Nolan Vineyard</td>\n",
       "      <td>...</td>\n",
       "      <td>@WineEnthusiast</td>\n",
       "      <td>Alisos Canyon</td>\n",
       "      <td>NaN</td>\n",
       "      <td>Gamay</td>\n",
       "      <td>2021.0</td>\n",
       "      <td>Press Gang</td>\n",
       "      <td>NaN</td>\n",
       "      <td>[berry, juicy]</td>\n",
       "      <td>[[0.86282146, 0.99222344, -3.169684, -1.510380...</td>\n",
       "      <td>2</td>\n",
       "    </tr>\n",
       "    <tr>\n",
       "      <th>2</th>\n",
       "      <td>2</td>\n",
       "      <td>2</td>\n",
       "      <td>13%</td>\n",
       "      <td>Morgon, Beaujolais, France</td>\n",
       "      <td>750 ml</td>\n",
       "      <td>NaN</td>\n",
       "      <td>France</td>\n",
       "      <td>1970-01-01T00:00:00+00:00</td>\n",
       "      <td>A ripe wine with soft fruit and equally light ...</td>\n",
       "      <td>Morgon</td>\n",
       "      <td>...</td>\n",
       "      <td>@WineEnthusiast</td>\n",
       "      <td>NaN</td>\n",
       "      <td>NaN</td>\n",
       "      <td>Gamay</td>\n",
       "      <td>2021.0</td>\n",
       "      <td>Maison RÃ©my Passot et Fils</td>\n",
       "      <td>NaN</td>\n",
       "      <td>[ripe, soft, fruit, light_bodied, fruit]</td>\n",
       "      <td>[[1.3592072, -0.22251885, -1.2446318, -1.22864...</td>\n",
       "      <td>5</td>\n",
       "    </tr>\n",
       "    <tr>\n",
       "      <th>3</th>\n",
       "      <td>3</td>\n",
       "      <td>3</td>\n",
       "      <td>13.5%</td>\n",
       "      <td>Fleurie, Beaujolais, France</td>\n",
       "      <td>750 ml</td>\n",
       "      <td>NaN</td>\n",
       "      <td>France</td>\n",
       "      <td>1970-01-01T00:00:00+00:00</td>\n",
       "      <td>This perfumed wine is full of juicy black frui...</td>\n",
       "      <td>La Madone  (Fleurie)</td>\n",
       "      <td>...</td>\n",
       "      <td>@WineEnthusiast</td>\n",
       "      <td>NaN</td>\n",
       "      <td>NaN</td>\n",
       "      <td>Gamay</td>\n",
       "      <td>2021.0</td>\n",
       "      <td>Albert Bichot</td>\n",
       "      <td>NaN</td>\n",
       "      <td>[perfumed, juicy, fruit]</td>\n",
       "      <td>[[0.18743007, 2.3177953, -1.8545066, -2.660867...</td>\n",
       "      <td>3</td>\n",
       "    </tr>\n",
       "    <tr>\n",
       "      <th>4</th>\n",
       "      <td>4</td>\n",
       "      <td>4</td>\n",
       "      <td>13.5%</td>\n",
       "      <td>Fleurie, Beaujolais, France</td>\n",
       "      <td>750 ml</td>\n",
       "      <td>NaN</td>\n",
       "      <td>France</td>\n",
       "      <td>1970-01-01T00:00:00+00:00</td>\n",
       "      <td>This is a finely textured wine, ripe with firm...</td>\n",
       "      <td>Domaine de RochegrÃ¨s  (Fleurie)</td>\n",
       "      <td>...</td>\n",
       "      <td>@WineEnthusiast</td>\n",
       "      <td>NaN</td>\n",
       "      <td>NaN</td>\n",
       "      <td>Gamay</td>\n",
       "      <td>2021.0</td>\n",
       "      <td>Albert Bichot</td>\n",
       "      <td>NaN</td>\n",
       "      <td>[ripe, fruit, ripe, round]</td>\n",
       "      <td>[[0.11831402, 1.3217263, -1.622495, -1.3768368...</td>\n",
       "      <td>4</td>\n",
       "    </tr>\n",
       "  </tbody>\n",
       "</table>\n",
       "<p>5 rows × 27 columns</p>\n",
       "</div>"
      ],
      "text/plain": [
       "   index  Unnamed: 0 Alcohol  \\\n",
       "0      0           0   13.1%   \n",
       "1      1           1     13%   \n",
       "2      2           2     13%   \n",
       "3      3           3   13.5%   \n",
       "4      4           4   13.5%   \n",
       "\n",
       "                                         Appellation Bottle Size  Category  \\\n",
       "0  San Luis Obispo County, Central Coast, Califor...      750 ml       NaN   \n",
       "1       Alisos Canyon, Central Coast, California, US      750 ml       NaN   \n",
       "2                         Morgon, Beaujolais, France      750 ml       NaN   \n",
       "3                        Fleurie, Beaujolais, France      750 ml       NaN   \n",
       "4                        Fleurie, Beaujolais, France      750 ml       NaN   \n",
       "\n",
       "   Country             Date Published  \\\n",
       "0       US  1970-01-01T00:00:00+00:00   \n",
       "1       US  1970-01-01T00:00:00+00:00   \n",
       "2   France  1970-01-01T00:00:00+00:00   \n",
       "3   France  1970-01-01T00:00:00+00:00   \n",
       "4   France  1970-01-01T00:00:00+00:00   \n",
       "\n",
       "                                         Description  \\\n",
       "0  Quite hazy in the glass, this bottling is shar...   \n",
       "1  This rather new grape for the Santa Barbara re...   \n",
       "2  A ripe wine with soft fruit and equally light ...   \n",
       "3  This perfumed wine is full of juicy black frui...   \n",
       "4  This is a finely textured wine, ripe with firm...   \n",
       "\n",
       "                        Designation  ...  Reviewer Twitter Handle  \\\n",
       "0                 Topotero Vineyard  ...          @WineEnthusiast   \n",
       "1                    Nolan Vineyard  ...          @WineEnthusiast   \n",
       "2                            Morgon  ...          @WineEnthusiast   \n",
       "3              La Madone  (Fleurie)  ...          @WineEnthusiast   \n",
       "4  Domaine de RochegrÃ¨s  (Fleurie)  ...          @WineEnthusiast   \n",
       "\n",
       "                Subregion  User Avg Rating Variety  Vintage  \\\n",
       "0  San Luis Obispo County              NaN   Gamay   2021.0   \n",
       "1           Alisos Canyon              NaN   Gamay   2021.0   \n",
       "2                     NaN              NaN   Gamay   2021.0   \n",
       "3                     NaN              NaN   Gamay   2021.0   \n",
       "4                     NaN              NaN   Gamay   2021.0   \n",
       "\n",
       "                        Winery Unnamed: 0.1  \\\n",
       "0              Scar of the Sea          NaN   \n",
       "1                   Press Gang          NaN   \n",
       "2  Maison RÃ©my Passot et Fils          NaN   \n",
       "3                Albert Bichot          NaN   \n",
       "4                Albert Bichot          NaN   \n",
       "\n",
       "                     normalized_descriptors  \\\n",
       "0    [sharp, plum, snappy, currant, pepper]   \n",
       "1                            [berry, juicy]   \n",
       "2  [ripe, soft, fruit, light_bodied, fruit]   \n",
       "3                  [perfumed, juicy, fruit]   \n",
       "4                [ripe, fruit, ripe, round]   \n",
       "\n",
       "                                       review_vector  descriptor_count  \n",
       "0  [[1.5738119, -1.0182891, -0.90251255, -1.38017...                 5  \n",
       "1  [[0.86282146, 0.99222344, -3.169684, -1.510380...                 2  \n",
       "2  [[1.3592072, -0.22251885, -1.2446318, -1.22864...                 5  \n",
       "3  [[0.18743007, 2.3177953, -1.8545066, -2.660867...                 3  \n",
       "4  [[0.11831402, 1.3217263, -1.622495, -1.3768368...                 4  \n",
       "\n",
       "[5 rows x 27 columns]"
      ]
     },
     "execution_count": 18,
     "metadata": {},
     "output_type": "execute_result"
    }
   ],
   "source": [
    "vectorizer = TfidfVectorizer()\n",
    "X = vectorizer.fit(descriptorized_reviews)\n",
    "\n",
    "dict_of_tfidf_weightings = dict(zip(X.get_feature_names(), X.idf_))\n",
    "\n",
    "wine_review_vectors = []\n",
    "for d in descriptorized_reviews:\n",
    "    descriptor_count = 0\n",
    "    weighted_review_terms = []\n",
    "    terms = d.split(' ')\n",
    "    for term in terms:\n",
    "        if (term in dict_of_tfidf_weightings.keys()) & (wine_word2vec_model.wv.__contains__(term)):\n",
    "            tfidf_weighting = dict_of_tfidf_weightings[term]\n",
    "            word_vector = wine_word2vec_model.wv.get_vector(term).reshape(1, 300)\n",
    "            # print(str(term) + \": \" + str(word_vector))\n",
    "            weighted_word_vector = tfidf_weighting * word_vector\n",
    "            weighted_review_terms.append(weighted_word_vector)\n",
    "            descriptor_count += 1\n",
    "        else:\n",
    "            continue\n",
    "    try:\n",
    "        review_vector = sum(weighted_review_terms)/len(weighted_review_terms)\n",
    "    except:\n",
    "        review_vector = []\n",
    "    vector_and_count = [terms, review_vector, descriptor_count]\n",
    "    wine_review_vectors.append(vector_and_count)\n",
    "\n",
    "wine_dataframe['normalized_descriptors'] = list(map(itemgetter(0), wine_review_vectors))\n",
    "wine_dataframe['review_vector'] = list(map(itemgetter(1), wine_review_vectors))\n",
    "wine_dataframe['descriptor_count'] = list(map(itemgetter(2), wine_review_vectors))\n",
    "\n",
    "wine_dataframe.reset_index(inplace=True)\n",
    "wine_dataframe.head()"
   ]
  },
  {
   "cell_type": "markdown",
   "metadata": {
    "tags": []
   },
   "source": [
    "To summarize, we generate a single vector for each wine review by going through the following steps:\n",
    "\n",
    "1. Normalize words in wine review (remove stopwords, punctuation, stemming)\n",
    "2. Enhance the set of normalized words with phrases (bi-grams and tri-grams)\n",
    "3. Apply mapping of wine terms to each review, keeping only those mapped phrases & words that have been deemed relevant and mapping these to our curated level 3 descriptors\n",
    "4. Retrieve the Word2Vec word embedding for each mapped term in the review\n",
    "5. Weight each word embedding in the wine review with a TF-IDF weighting\n",
    "6. Sum the word embeddings within each wine review to create a single vector representation of the wine review\n",
    "\n",
    "### 5. Exploring our Wine Review Vectors\n",
    "\n",
    "#### 5.1 Similarities Between Grape Varieties\n",
    "\n",
    "Now that we have a vector representation of each wine review, we can start to explore potential uses of this data. Before we turn our attention to the creation of a wine recommendation engine, we will take a look at the similarities between grape varieties. We will do this by taking the average of all wine review vectors for each grape variety, compressing them into two dimensions using PCA (Principal Component Analysis) and then producing a visual mapping."
   ]
  },
  {
   "cell_type": "code",
   "execution_count": 19,
   "metadata": {
    "tags": []
   },
   "outputs": [
    {
     "data": {
      "text/plain": [
       "array(['Gamay', 'Sauvignon Blanc', 'Viognier', 'Syrah', 'Chardonnay',\n",
       "       'Sparkling', 'Cabernet Sauvignon', 'Bordeaux-style Red Blend',\n",
       "       'White Blend', 'Pinot Noir', 'Merlot', 'Malbec',\n",
       "       'RhÃ´ne-style Red Blend', 'Nebbiolo', 'Red Blends', 'Pinot Gris',\n",
       "       'Sangiovese', 'Portuguese Red', 'Portuguese White',\n",
       "       'Cabernet Franc', 'GrÃ¼ner Veltliner', 'Zinfandel', 'Riesling',\n",
       "       'Tempranillo', 'RosÃ©'], dtype=object)"
      ]
     },
     "execution_count": 19,
     "metadata": {},
     "output_type": "execute_result"
    }
   ],
   "source": [
    "wine_dataframe.Variety.unique()"
   ]
  },
  {
   "cell_type": "code",
   "execution_count": 20,
   "metadata": {},
   "outputs": [],
   "source": [
    "most_common_reds = ['Pinot Noir', 'Cabernet Sauvignon', 'Bordeaux-style Red Blend', 'Syrah', 'Merlot',\n",
    "                         'Sangiovese', 'Zinfandel', 'Tempranillo', 'Nebbiolo', 'Portuguese Red', 'Malbec',\n",
    "                         'Rhone-style Red Blend', 'Cabernet Franc', 'Gamay']"
   ]
  },
  {
   "cell_type": "code",
   "execution_count": 21,
   "metadata": {
    "tags": []
   },
   "outputs": [],
   "source": [
    "# first, let's eliminate any review with fewer than 5 descriptors from our dataset\n",
    "wine_reviews_mincount = wine_dataframe.loc[wine_dataframe['descriptor_count'] > 5]\n",
    "wine_reviews_mincount.reset_index(inplace=True)\n",
    "\n",
    "variety_mapping = {'Shiraz': 'Syrah', 'Pinot Gris': 'Pinot Grigio', 'Pinot Grigio/Gris': 'Pinot Grigio', \n",
    "                   'Garnacha, Grenache': 'Grenache', 'Garnacha': 'Grenache', 'CarmenÃ¨re': 'Carmenere',\n",
    "                    'GrÃ¼ner Veltliner': 'Gruner Veltliner', 'TorrontÃ©s': 'Torrontes', \n",
    "                   'RhÃ´ne-style Red Blend': 'Rhone-style Red Blend', 'AlbariÃ±o': 'Albarino',\n",
    "                  'GewÃ¼rztraminer': 'Gewurztraminer', 'RhÃ´ne-style White Blend': 'Rhone-style White Blend'}\n",
    "\n",
    "def consolidate_varieties(variety_name):\n",
    "    if variety_name in variety_mapping:\n",
    "        return variety_mapping[variety_name]\n",
    "    else:\n",
    "        return variety_name\n",
    "\n",
    "wine_reviews_clean = wine_reviews_mincount.copy()\n",
    "wine_reviews_clean['Variety'] = wine_reviews_clean['Variety'].apply(consolidate_varieties)\n",
    "\n",
    "def subset_wine_vectors(list_of_varieties):\n",
    "    wine_variety_vectors = []\n",
    "    for v in list_of_varieties:\n",
    "        one_var_only = wine_reviews_clean.loc[wine_reviews_clean['Variety'] == v]\n",
    "        review_arrays = one_var_only['review_vector'].apply(lambda x: x[0])\n",
    "        average_variety_vec = np.average(review_arrays)\n",
    "        wine_variety_vector = [v, average_variety_vec]\n",
    "        wine_variety_vectors.append(wine_variety_vector)\n",
    "    return wine_variety_vectors\n",
    "\n",
    "def pca_wine_variety(list_of_varieties):\n",
    "    wine_var_vectors = subset_wine_vectors(list_of_varieties)\n",
    "    pca = PCA(n_components=2)\n",
    "    pca.fit([w[1] for w in wine_var_vectors])  \n",
    "    pca_dataset = pca.fit_transform([w[1] for w in wine_var_vectors])\n",
    "    pca_dataframe = pd.DataFrame(pca_dataset, columns=['pca_1', 'pca_2'])\n",
    "    pca_dataframe.index = [w[0] for w in wine_var_vectors]\n",
    "    # print(pca_dataframe)\n",
    "    return pca_dataframe"
   ]
  },
  {
   "cell_type": "code",
   "execution_count": 22,
   "metadata": {},
   "outputs": [],
   "source": [
    "# Common reds: Can't find: "
   ]
  },
  {
   "cell_type": "code",
   "execution_count": 23,
   "metadata": {
    "tags": []
   },
   "outputs": [
    {
     "data": {
      "text/html": [
       "<div>\n",
       "<style scoped>\n",
       "    .dataframe tbody tr th:only-of-type {\n",
       "        vertical-align: middle;\n",
       "    }\n",
       "\n",
       "    .dataframe tbody tr th {\n",
       "        vertical-align: top;\n",
       "    }\n",
       "\n",
       "    .dataframe thead th {\n",
       "        text-align: right;\n",
       "    }\n",
       "</style>\n",
       "<table border=\"1\" class=\"dataframe\">\n",
       "  <thead>\n",
       "    <tr style=\"text-align: right;\">\n",
       "      <th></th>\n",
       "      <th>pca_1</th>\n",
       "      <th>pca_2</th>\n",
       "    </tr>\n",
       "  </thead>\n",
       "  <tbody>\n",
       "    <tr>\n",
       "      <th>Pinot Noir</th>\n",
       "      <td>0.891329</td>\n",
       "      <td>-1.818610</td>\n",
       "    </tr>\n",
       "    <tr>\n",
       "      <th>Cabernet Sauvignon</th>\n",
       "      <td>1.000581</td>\n",
       "      <td>-2.854446</td>\n",
       "    </tr>\n",
       "    <tr>\n",
       "      <th>Bordeaux-style Red Blend</th>\n",
       "      <td>-4.521178</td>\n",
       "      <td>1.032269</td>\n",
       "    </tr>\n",
       "    <tr>\n",
       "      <th>Syrah</th>\n",
       "      <td>1.138576</td>\n",
       "      <td>-2.734976</td>\n",
       "    </tr>\n",
       "    <tr>\n",
       "      <th>Merlot</th>\n",
       "      <td>0.331645</td>\n",
       "      <td>-1.478627</td>\n",
       "    </tr>\n",
       "    <tr>\n",
       "      <th>Sangiovese</th>\n",
       "      <td>8.363809</td>\n",
       "      <td>4.634551</td>\n",
       "    </tr>\n",
       "    <tr>\n",
       "      <th>Zinfandel</th>\n",
       "      <td>-0.475349</td>\n",
       "      <td>-2.004875</td>\n",
       "    </tr>\n",
       "    <tr>\n",
       "      <th>Tempranillo</th>\n",
       "      <td>4.459098</td>\n",
       "      <td>-3.252531</td>\n",
       "    </tr>\n",
       "    <tr>\n",
       "      <th>Nebbiolo</th>\n",
       "      <td>9.928521</td>\n",
       "      <td>5.668717</td>\n",
       "    </tr>\n",
       "    <tr>\n",
       "      <th>Portuguese Red</th>\n",
       "      <td>-9.750051</td>\n",
       "      <td>3.774119</td>\n",
       "    </tr>\n",
       "    <tr>\n",
       "      <th>Malbec</th>\n",
       "      <td>-1.522833</td>\n",
       "      <td>-1.245975</td>\n",
       "    </tr>\n",
       "    <tr>\n",
       "      <th>Rhone-style Red Blend</th>\n",
       "      <td>-0.397941</td>\n",
       "      <td>-2.243280</td>\n",
       "    </tr>\n",
       "    <tr>\n",
       "      <th>Cabernet Franc</th>\n",
       "      <td>-0.371800</td>\n",
       "      <td>-1.360179</td>\n",
       "    </tr>\n",
       "    <tr>\n",
       "      <th>Gamay</th>\n",
       "      <td>-9.074408</td>\n",
       "      <td>3.883845</td>\n",
       "    </tr>\n",
       "  </tbody>\n",
       "</table>\n",
       "</div>"
      ],
      "text/plain": [
       "                             pca_1     pca_2\n",
       "Pinot Noir                0.891329 -1.818610\n",
       "Cabernet Sauvignon        1.000581 -2.854446\n",
       "Bordeaux-style Red Blend -4.521178  1.032269\n",
       "Syrah                     1.138576 -2.734976\n",
       "Merlot                    0.331645 -1.478627\n",
       "Sangiovese                8.363809  4.634551\n",
       "Zinfandel                -0.475349 -2.004875\n",
       "Tempranillo               4.459098 -3.252531\n",
       "Nebbiolo                  9.928521  5.668717\n",
       "Portuguese Red           -9.750051  3.774119\n",
       "Malbec                   -1.522833 -1.245975\n",
       "Rhone-style Red Blend    -0.397941 -2.243280\n",
       "Cabernet Franc           -0.371800 -1.360179\n",
       "Gamay                    -9.074408  3.883845"
      ]
     },
     "execution_count": 23,
     "metadata": {},
     "output_type": "execute_result"
    }
   ],
   "source": [
    "# pca_wine_variety(['Pinot Noir'])\n",
    "pca_wine_variety(['Pinot Noir', 'Cabernet Sauvignon', 'Bordeaux-style Red Blend','Syrah',\n",
    "                 'Merlot', 'Sangiovese', 'Zinfandel', 'Tempranillo', 'Nebbiolo',\n",
    "                 'Portuguese Red', 'Malbec', 'Rhone-style Red Blend', 'Cabernet Franc',\n",
    "                 'Gamay'])"
   ]
  },
  {
   "cell_type": "code",
   "execution_count": 24,
   "metadata": {},
   "outputs": [],
   "source": [
    "# Common whites: Can't find these varieties: 'Chenin Blanc', 'Albarino', 'Pinot Blanc','Verdejo', 'Torrontes', 'Vermentino',\n",
    "                            # 'Melon', 'Gewurztraminer', 'Rhone-style White Blend'"
   ]
  },
  {
   "cell_type": "code",
   "execution_count": 25,
   "metadata": {
    "tags": []
   },
   "outputs": [
    {
     "data": {
      "image/png": "[encoded data removed]",
      "text/plain": [
       "<Figure size 1500x800 with 1 Axes>"
      ]
     },
     "metadata": {},
     "output_type": "display_data"
    }
   ],
   "source": [
    "# most_common_whites = ['Chardonnay', 'Sauvignon Blanc', 'Riesling', 'Pinot Grigio', \n",
    "#                         'Gruner Veltliner', 'Viognier', 'Chenin Blanc', 'Albarino', 'Pinot Blanc', 'Verdejo',\n",
    "#                         'Torrontes', 'Vermentino', 'Melon', 'Gewurztraminer', 'Rhone-style White Blend']\n",
    "most_common_whites = ['Chardonnay', 'Sauvignon Blanc', 'Riesling', 'Pinot Grigio', \n",
    "                        'Gruner Veltliner', 'Viognier']\n",
    "\n",
    "pca_w_dataframe = pca_wine_variety(most_common_whites)\n",
    "plt.figure(figsize=(15, 8))\n",
    "plt.scatter(x=pca_w_dataframe['pca_1'], y=pca_w_dataframe['pca_2'])\n",
    "for i, txt in enumerate(pca_w_dataframe.index):\n",
    "    plt.annotate(txt, (list(pca_w_dataframe['pca_1'])[i]+0.2, list(pca_w_dataframe['pca_2'])[i]-0.1), fontsize=12)\n",
    "\n",
    "plt.xlabel('PCA Factor 1')\n",
    "plt.ylabel('PCA Factor 2')\n",
    "plt.title('Average Wine Embeddings for Most Common White Wines', fontsize=16)\n",
    "plt.show()"
   ]
  },
  {
   "cell_type": "markdown",
   "metadata": {},
   "source": [
    "At a glance, it appears that the dryer grape varieties (Albarino, Verdejo, Sauvignon Blanc, Melon) are more on the top half of this plot. Slightly sweeter and full-bodied grape varieties such as Chardonnay, Chenin Blanc and Viognier feature on the bottom half of this plot. It is noteworthy how close together Pinot Grigio and Riesling are in the diagram above. It is worth noting that we cannot capture all the variation between these grape varieties in two dimensions, so the above plot is somewhat imperfect. Nevertheless, let's go through the same exercise for the red grape varieties to see what we can learn."
   ]
  },
  {
   "cell_type": "code",
   "execution_count": 26,
   "metadata": {
    "tags": []
   },
   "outputs": [
    {
     "data": {
      "image/png": "[encoded data removed]",
      "text/plain": [
       "<Figure size 1500x800 with 1 Axes>"
      ]
     },
     "metadata": {},
     "output_type": "display_data"
    }
   ],
   "source": [
    "# most_common_reds = ['Pinot Noir', 'Cabernet Sauvignon', 'Bordeaux-style Red Blend', 'Syrah', 'Merlot',\n",
    "#                          'Sangiovese', 'Zinfandel', 'Tempranillo', 'Nebbiolo', 'Portuguese Red', 'Malbec',\n",
    "#                          'Rhone-style Red Blend', 'Cabernet Franc', 'Gamay','Tempranillo Blend, Tempranillo', 'Petite Sirah',\n",
    "#                         'Barbera', \"Nero d'Avola, Italian Red\"]\n",
    "most_common_reds = ['Pinot Noir', 'Cabernet Sauvignon', 'Bordeaux-style Red Blend', 'Syrah', 'Merlot',\n",
    "                         'Sangiovese', 'Zinfandel', 'Tempranillo', 'Nebbiolo', 'Portuguese Red', 'Malbec',\n",
    "                         'Rhone-style Red Blend', 'Cabernet Franc', 'Gamay']\n",
    "\n",
    "pca_r_dataframe = pca_wine_variety(most_common_reds)\n",
    "plt.figure(figsize=(15, 8))\n",
    "plt.scatter(x=pca_r_dataframe['pca_1'], y=pca_r_dataframe['pca_2'])\n",
    "for i, txt in enumerate(pca_r_dataframe.index):\n",
    "    plt.annotate(txt, (list(pca_r_dataframe['pca_1'])[i]+0.2, list(pca_r_dataframe['pca_2'])[i]-0.1), fontsize=12)\n",
    "\n",
    "plt.xlabel('PCA Factor 1')\n",
    "plt.ylabel('PCA Factor 2')\n",
    "plt.title('Average Wine Embeddings for Most Common Red Wines', fontsize=16)\n",
    "plt.show()"
   ]
  },
  {
   "cell_type": "markdown",
   "metadata": {},
   "source": [
    "Plotting the most common red wines, we can see that the Italian grape varieties all sit in the bottom left-hand quadrant of the plot above. It is also noteworthy that Merlot and Cabernet Sauvignon are so close together - this is not surprising, since these two grape varieties are genetically very similar. It is somewhat surprising that Gamay (which produces light-bodied reds that are, in my experience, somewhat similar to Pinot Noir) is way off on the right-hand side of the graph, relatively close to Bordeaux-style Red Blends. \n",
    "\n",
    "#### 5.2 Wine Recommender\n",
    "\n",
    "We can also use our wine review vectors to make wine suggestions. We can do this by using a nearest neighbors model, which calculates the cosine distance between various wine review vectors. The vectorized wine reviews that lie closest to one another are returned as suggestions."
   ]
  },
  {
   "cell_type": "code",
   "execution_count": 27,
   "metadata": {
    "tags": []
   },
   "outputs": [],
   "source": [
    "input_vectors = list(wine_reviews_mincount['review_vector'])\n",
    "input_vectors_listed = [a.tolist() for a in input_vectors]\n",
    "input_vectors_listed = [a[0] for a in input_vectors_listed]\n",
    "\n",
    "knn = NearestNeighbors(n_neighbors=10, algorithm= 'brute', metric='cosine')\n",
    "model_knn = knn.fit(input_vectors_listed)"
   ]
  },
  {
   "cell_type": "markdown",
   "metadata": {},
   "source": [
    "First, let's see what suggestions are returned when we feed this nearest neighbors algorithm a wine we like. To demonstrate this, we have chosen a random wine from our dataset - a Pinot Noir from Santa Barbara, California."
   ]
  },
  {
   "cell_type": "code",
   "execution_count": 28,
   "metadata": {
    "tags": []
   },
   "outputs": [
    {
     "name": "stdout",
     "output_type": "stream",
     "text": [
      "Wine to match: Aspen Peak 2019 Viognier (Grand Valley)\n",
      "The original wine has the following descriptors: ['lemon', 'grass', 'lime_peel', 'juicy', 'juicy', 'vibrant', 'bright', 'ripe', 'apple', 'orange']\n",
      "_________\n",
      "Suggestion 1 : Nick Goldschmidt 2021 Forefathers Sauvignon Blanc (Marlborough) with a cosine distance of 0.053\n",
      "This wine has the following descriptors: ['vibrant', 'lemon', 'orange_peel', 'passion_fruit', 'buoyant', 'citrus']\n",
      "\n",
      "Suggestion 2 : Standing Stone 2020 Timeline Dry Riesling (Seneca Lake) with a cosine distance of 0.055\n",
      "This wine has the following descriptors: ['fleshy', 'round', 'mandarin', 'lemon', 'apple', 'brisk', 'rocks', 'dry', 'juicy', 'citrus']\n",
      "\n",
      "Suggestion 3 : Palmento Costanzo 2019 Mofete White (Etna) with a cosine distance of 0.056\n",
      "This wine has the following descriptors: ['rocks', 'fruit', 'racy', 'crisp', 'ripe', 'pear', 'apple', 'lemon_drop', 'candy', 'brine']\n",
      "\n",
      "Suggestion 4 : Dr. Konstantin Frank 2020 Eugenia Dry Riesling (Finger Lakes) with a cosine distance of 0.057\n",
      "This wine has the following descriptors: ['rocks', 'candy', 'lime_peel', 'juicy', 'apple', 'brisk', 'zesty', 'dry', 'apple', 'lime']\n",
      "\n",
      "Suggestion 5 : Jefferson Vineyards 2016 Viognier (Virginia) with a cosine distance of 0.057\n",
      "This wine has the following descriptors: ['passion_fruit', 'overripe', 'apple', 'grass', 'citrus', 'candy', 'grapefruit', 'ginger', 'spice', 'zesty']\n",
      "\n",
      "Suggestion 6 : Echo Bay 2021 Sauvignon Blanc (Marlborough) with a cosine distance of 0.059\n",
      "This wine has the following descriptors: ['lemon', 'passion_fruit', 'grapefruit', 'grass', 'pepper', 'chalk', 'bright', 'crunchy', 'fleshy', 'vibrant']\n",
      "\n",
      "Suggestion 7 : Dona Maria-JÃºlio Bastos 2018 Dona Maria Branco White (Alentejano) with a cosine distance of 0.060\n",
      "This wine has the following descriptors: ['bright', 'crisp', 'fresh', 'lemon', 'ripe', 'apple', 'zesty', 'orange_peel']\n",
      "\n",
      "Suggestion 8 : Leonard Kreusch 2020 Riesling (Mosel) with a cosine distance of 0.061\n",
      "This wine has the following descriptors: ['candy', 'grapefruit_peel', 'lemon_drop', 'fresh', 'tangerine', 'lime', 'medium_sweet', 'juicy', 'fruit', 'earth']\n",
      "\n"
     ]
    }
   ],
   "source": [
    "# name_test = \"Point & Line 2016 John Sebastiano Vineyard Reserve Pinot Noir (Sta. Rita Hills)\"\n",
    "name_test = \"Aspen Peak 2019 Viognier (Grand Valley)\"\n",
    "wine_test_vector = wine_reviews_mincount.loc[wine_reviews_mincount['Name'] == name_test]['review_vector'].tolist()[0]\n",
    "distance, indice = model_knn.kneighbors(wine_test_vector, n_neighbors=9)\n",
    "distance_list = distance[0].tolist()[1:]\n",
    "indice_list = indice[0].tolist()[1:]\n",
    "\n",
    "main_wine = wine_reviews_mincount.loc[wine_reviews_mincount['Name'] == name_test]\n",
    "\n",
    "print('Wine to match:', name_test)\n",
    "print('The original wine has the following descriptors:', list(main_wine['normalized_descriptors'])[0])\n",
    "print('_________')\n",
    "\n",
    "n = 1\n",
    "for d, i in zip(distance_list, indice_list):\n",
    "    wine_name = wine_reviews_mincount['Name'][i]\n",
    "    wine_descriptors = wine_reviews_mincount['normalized_descriptors'][i]\n",
    "    print('Suggestion', str(n), ':', wine_name, 'with a cosine distance of', \"{:.3f}\".format(d))\n",
    "    print('This wine has the following descriptors:', wine_descriptors)\n",
    "    print('')\n",
    "    n+=1"
   ]
  },
  {
   "cell_type": "code",
   "execution_count": 29,
   "metadata": {
    "tags": []
   },
   "outputs": [
    {
     "data": {
      "text/html": [
       "<div>\n",
       "<style scoped>\n",
       "    .dataframe tbody tr th:only-of-type {\n",
       "        vertical-align: middle;\n",
       "    }\n",
       "\n",
       "    .dataframe tbody tr th {\n",
       "        vertical-align: top;\n",
       "    }\n",
       "\n",
       "    .dataframe thead th {\n",
       "        text-align: right;\n",
       "    }\n",
       "</style>\n",
       "<table border=\"1\" class=\"dataframe\">\n",
       "  <thead>\n",
       "    <tr style=\"text-align: right;\">\n",
       "      <th></th>\n",
       "      <th>index</th>\n",
       "      <th>Unnamed: 0</th>\n",
       "      <th>Alcohol</th>\n",
       "      <th>Appellation</th>\n",
       "      <th>Bottle Size</th>\n",
       "      <th>Category</th>\n",
       "      <th>Country</th>\n",
       "      <th>Date Published</th>\n",
       "      <th>Description</th>\n",
       "      <th>Designation</th>\n",
       "      <th>...</th>\n",
       "      <th>Reviewer Twitter Handle</th>\n",
       "      <th>Subregion</th>\n",
       "      <th>User Avg Rating</th>\n",
       "      <th>Variety</th>\n",
       "      <th>Vintage</th>\n",
       "      <th>Winery</th>\n",
       "      <th>Unnamed: 0.1</th>\n",
       "      <th>normalized_descriptors</th>\n",
       "      <th>review_vector</th>\n",
       "      <th>descriptor_count</th>\n",
       "    </tr>\n",
       "  </thead>\n",
       "  <tbody>\n",
       "    <tr>\n",
       "      <th>1397</th>\n",
       "      <td>440</td>\n",
       "      <td>440</td>\n",
       "      <td>13.5%</td>\n",
       "      <td>Marlborough, New Zealand</td>\n",
       "      <td>750 ml</td>\n",
       "      <td>NaN</td>\n",
       "      <td>New Zealand</td>\n",
       "      <td>1970-01-01T00:00:00+00:00</td>\n",
       "      <td>This is a harmonious and vibrant Sauvignon wit...</td>\n",
       "      <td>Forefathers Sauvignon Blanc (Marlborough)</td>\n",
       "      <td>...</td>\n",
       "      <td>@WineEnthusiast</td>\n",
       "      <td>NaN</td>\n",
       "      <td>NaN</td>\n",
       "      <td>Sauvignon Blanc</td>\n",
       "      <td>2021.0</td>\n",
       "      <td>Nick Goldschmidt</td>\n",
       "      <td>NaN</td>\n",
       "      <td>[vibrant, lemon, orange_peel, passion_fruit, b...</td>\n",
       "      <td>[[2.8647902, 1.5302587, -0.033676486, -3.38759...</td>\n",
       "      <td>6</td>\n",
       "    </tr>\n",
       "    <tr>\n",
       "      <th>1574</th>\n",
       "      <td>617</td>\n",
       "      <td>617</td>\n",
       "      <td>13%</td>\n",
       "      <td>Marlborough, New Zealand</td>\n",
       "      <td>750 ml</td>\n",
       "      <td>NaN</td>\n",
       "      <td>New Zealand</td>\n",
       "      <td>1970-01-01T00:00:00+00:00</td>\n",
       "      <td>Boisterous aromas of preserved lemon, passion ...</td>\n",
       "      <td>Sauvignon Blanc (Marlborough)</td>\n",
       "      <td>...</td>\n",
       "      <td>@WineEnthusiast</td>\n",
       "      <td>NaN</td>\n",
       "      <td>NaN</td>\n",
       "      <td>Sauvignon Blanc</td>\n",
       "      <td>2021.0</td>\n",
       "      <td>Echo Bay</td>\n",
       "      <td>NaN</td>\n",
       "      <td>[lemon, passion_fruit, grapefruit, grass, pepp...</td>\n",
       "      <td>[[1.965547, 0.53860503, 0.40735847, -2.9352913...</td>\n",
       "      <td>10</td>\n",
       "    </tr>\n",
       "    <tr>\n",
       "      <th>2200</th>\n",
       "      <td>296</td>\n",
       "      <td>296</td>\n",
       "      <td>13.5%</td>\n",
       "      <td>Grand Valley, Colorado, US</td>\n",
       "      <td>750 ml</td>\n",
       "      <td>NaN</td>\n",
       "      <td>US</td>\n",
       "      <td>1970-01-01T00:00:00+00:00</td>\n",
       "      <td>On the nose, aromas of lemons, grass clippings...</td>\n",
       "      <td>NaN</td>\n",
       "      <td>...</td>\n",
       "      <td>@WineEnthusiast</td>\n",
       "      <td>NaN</td>\n",
       "      <td>NaN</td>\n",
       "      <td>Viognier</td>\n",
       "      <td>2019.0</td>\n",
       "      <td>Aspen Peak</td>\n",
       "      <td>NaN</td>\n",
       "      <td>[lemon, grass, lime_peel, juicy, juicy, vibran...</td>\n",
       "      <td>[[1.6087463, 1.0612218, -0.40932602, -2.769603...</td>\n",
       "      <td>10</td>\n",
       "    </tr>\n",
       "    <tr>\n",
       "      <th>5235</th>\n",
       "      <td>702</td>\n",
       "      <td>702</td>\n",
       "      <td>12%</td>\n",
       "      <td>CrÃ©mant de Bourgogne, Burgundy, France</td>\n",
       "      <td>750 ml</td>\n",
       "      <td>NaN</td>\n",
       "      <td>France</td>\n",
       "      <td>1970-01-01T00:00:00+00:00</td>\n",
       "      <td>Bristling streaks of grapefruit zest accent ri...</td>\n",
       "      <td>Brut  (CrÃ©mant de Bourgogne)</td>\n",
       "      <td>...</td>\n",
       "      <td>@WineEnthusiast</td>\n",
       "      <td>NaN</td>\n",
       "      <td>NaN</td>\n",
       "      <td>Sparkling</td>\n",
       "      <td>2019.0</td>\n",
       "      <td>FranÃ§ois Martenot</td>\n",
       "      <td>NaN</td>\n",
       "      <td>[grapefruit_peel, ripe, apple, juicy, ripe, fr...</td>\n",
       "      <td>[[1.4240388, 1.1182172, -0.78077286, -1.444150...</td>\n",
       "      <td>7</td>\n",
       "    </tr>\n",
       "    <tr>\n",
       "      <th>14569</th>\n",
       "      <td>853</td>\n",
       "      <td>853</td>\n",
       "      <td>12.8%</td>\n",
       "      <td>Willamette Valley, Willamette Valley, Oregon, US</td>\n",
       "      <td>750 ml</td>\n",
       "      <td>NaN</td>\n",
       "      <td>US</td>\n",
       "      <td>1970-01-01T00:00:00+00:00</td>\n",
       "      <td>Clean, crisp and fresh, this lightly ripened y...</td>\n",
       "      <td>Elhanan Vineyard Pinot Gris (Willamette Valley)</td>\n",
       "      <td>...</td>\n",
       "      <td>@WineEnthusiast</td>\n",
       "      <td>Willamette Valley</td>\n",
       "      <td>NaN</td>\n",
       "      <td>Pinot Gris</td>\n",
       "      <td>2017.0</td>\n",
       "      <td>Sarver</td>\n",
       "      <td>853.0</td>\n",
       "      <td>[clean, crisp, fresh, light_bodied, ripe, appl...</td>\n",
       "      <td>[[1.4699517, 0.7607697, -0.61051136, -2.670410...</td>\n",
       "      <td>9</td>\n",
       "    </tr>\n",
       "    <tr>\n",
       "      <th>17296</th>\n",
       "      <td>1762</td>\n",
       "      <td>1762</td>\n",
       "      <td>13%</td>\n",
       "      <td>Alentejano, Portugal</td>\n",
       "      <td>750 ml</td>\n",
       "      <td>NaN</td>\n",
       "      <td>Portugal</td>\n",
       "      <td>1970-01-01T00:00:00+00:00</td>\n",
       "      <td>This blend of Arinto, AntÃ£o Vaz and Viosinho ...</td>\n",
       "      <td>Dona Maria Branco White (Alentejano)</td>\n",
       "      <td>...</td>\n",
       "      <td>@WineEnthusiast</td>\n",
       "      <td>NaN</td>\n",
       "      <td>NaN</td>\n",
       "      <td>Portuguese White</td>\n",
       "      <td>2018.0</td>\n",
       "      <td>Dona Maria-JÃºlio Bastos</td>\n",
       "      <td>NaN</td>\n",
       "      <td>[bright, crisp, fresh, lemon, ripe, apple, zes...</td>\n",
       "      <td>[[1.1451691, 1.3819834, -0.31091353, -3.454142...</td>\n",
       "      <td>8</td>\n",
       "    </tr>\n",
       "    <tr>\n",
       "      <th>20741</th>\n",
       "      <td>515</td>\n",
       "      <td>515</td>\n",
       "      <td>12%</td>\n",
       "      <td>Seneca Lake, Finger Lakes, New York, US</td>\n",
       "      <td>750 ml</td>\n",
       "      <td>NaN</td>\n",
       "      <td>US</td>\n",
       "      <td>1970-01-01T00:00:00+00:00</td>\n",
       "      <td>Fleshy, rounded aromas of Mandarin, lemon oil ...</td>\n",
       "      <td>Timeline Dry</td>\n",
       "      <td>...</td>\n",
       "      <td>@WineEnthusiast</td>\n",
       "      <td>Seneca Lake</td>\n",
       "      <td>NaN</td>\n",
       "      <td>Riesling</td>\n",
       "      <td>2020.0</td>\n",
       "      <td>Standing Stone</td>\n",
       "      <td>NaN</td>\n",
       "      <td>[fleshy, round, mandarin, lemon, apple, brisk,...</td>\n",
       "      <td>[[1.3178556, 1.0390282, -0.016134715, -2.17206...</td>\n",
       "      <td>10</td>\n",
       "    </tr>\n",
       "    <tr>\n",
       "      <th>20759</th>\n",
       "      <td>533</td>\n",
       "      <td>533</td>\n",
       "      <td>12%</td>\n",
       "      <td>Finger Lakes, Finger Lakes, New York, US</td>\n",
       "      <td>750 ml</td>\n",
       "      <td>NaN</td>\n",
       "      <td>US</td>\n",
       "      <td>1970-01-01T00:00:00+00:00</td>\n",
       "      <td>This Keuka Lake-sourced wine delivers intense ...</td>\n",
       "      <td>Eugenia Dry</td>\n",
       "      <td>...</td>\n",
       "      <td>@WineEnthusiast</td>\n",
       "      <td>Finger Lakes</td>\n",
       "      <td>NaN</td>\n",
       "      <td>Riesling</td>\n",
       "      <td>2020.0</td>\n",
       "      <td>Dr. Konstantin Frank</td>\n",
       "      <td>NaN</td>\n",
       "      <td>[rocks, candy, lime_peel, juicy, apple, brisk,...</td>\n",
       "      <td>[[1.7350582, 0.6218662, 0.39827752, -2.4885185...</td>\n",
       "      <td>10</td>\n",
       "    </tr>\n",
       "  </tbody>\n",
       "</table>\n",
       "<p>8 rows × 27 columns</p>\n",
       "</div>"
      ],
      "text/plain": [
       "       index  Unnamed: 0 Alcohol  \\\n",
       "1397     440         440   13.5%   \n",
       "1574     617         617     13%   \n",
       "2200     296         296   13.5%   \n",
       "5235     702         702     12%   \n",
       "14569    853         853   12.8%   \n",
       "17296   1762        1762     13%   \n",
       "20741    515         515     12%   \n",
       "20759    533         533     12%   \n",
       "\n",
       "                                            Appellation Bottle Size  Category  \\\n",
       "1397                           Marlborough, New Zealand      750 ml       NaN   \n",
       "1574                           Marlborough, New Zealand      750 ml       NaN   \n",
       "2200                         Grand Valley, Colorado, US      750 ml       NaN   \n",
       "5235            CrÃ©mant de Bourgogne, Burgundy, France      750 ml       NaN   \n",
       "14569  Willamette Valley, Willamette Valley, Oregon, US      750 ml       NaN   \n",
       "17296                              Alentejano, Portugal      750 ml       NaN   \n",
       "20741           Seneca Lake, Finger Lakes, New York, US      750 ml       NaN   \n",
       "20759          Finger Lakes, Finger Lakes, New York, US      750 ml       NaN   \n",
       "\n",
       "            Country             Date Published  \\\n",
       "1397    New Zealand  1970-01-01T00:00:00+00:00   \n",
       "1574    New Zealand  1970-01-01T00:00:00+00:00   \n",
       "2200             US  1970-01-01T00:00:00+00:00   \n",
       "5235         France  1970-01-01T00:00:00+00:00   \n",
       "14569            US  1970-01-01T00:00:00+00:00   \n",
       "17296      Portugal  1970-01-01T00:00:00+00:00   \n",
       "20741            US  1970-01-01T00:00:00+00:00   \n",
       "20759            US  1970-01-01T00:00:00+00:00   \n",
       "\n",
       "                                             Description  \\\n",
       "1397   This is a harmonious and vibrant Sauvignon wit...   \n",
       "1574   Boisterous aromas of preserved lemon, passion ...   \n",
       "2200   On the nose, aromas of lemons, grass clippings...   \n",
       "5235   Bristling streaks of grapefruit zest accent ri...   \n",
       "14569  Clean, crisp and fresh, this lightly ripened y...   \n",
       "17296  This blend of Arinto, AntÃ£o Vaz and Viosinho ...   \n",
       "20741  Fleshy, rounded aromas of Mandarin, lemon oil ...   \n",
       "20759  This Keuka Lake-sourced wine delivers intense ...   \n",
       "\n",
       "                                           Designation  ...  \\\n",
       "1397         Forefathers Sauvignon Blanc (Marlborough)  ...   \n",
       "1574                     Sauvignon Blanc (Marlborough)  ...   \n",
       "2200                                               NaN  ...   \n",
       "5235                     Brut  (CrÃ©mant de Bourgogne)  ...   \n",
       "14569  Elhanan Vineyard Pinot Gris (Willamette Valley)  ...   \n",
       "17296             Dona Maria Branco White (Alentejano)  ...   \n",
       "20741                                     Timeline Dry  ...   \n",
       "20759                                      Eugenia Dry  ...   \n",
       "\n",
       "       Reviewer Twitter Handle          Subregion  User Avg Rating  \\\n",
       "1397           @WineEnthusiast                NaN              NaN   \n",
       "1574           @WineEnthusiast                NaN              NaN   \n",
       "2200           @WineEnthusiast                NaN              NaN   \n",
       "5235           @WineEnthusiast                NaN              NaN   \n",
       "14569          @WineEnthusiast  Willamette Valley              NaN   \n",
       "17296          @WineEnthusiast                NaN              NaN   \n",
       "20741          @WineEnthusiast        Seneca Lake              NaN   \n",
       "20759          @WineEnthusiast       Finger Lakes              NaN   \n",
       "\n",
       "                Variety  Vintage                    Winery Unnamed: 0.1  \\\n",
       "1397    Sauvignon Blanc   2021.0          Nick Goldschmidt          NaN   \n",
       "1574    Sauvignon Blanc   2021.0                  Echo Bay          NaN   \n",
       "2200           Viognier   2019.0                Aspen Peak          NaN   \n",
       "5235          Sparkling   2019.0        FranÃ§ois Martenot          NaN   \n",
       "14569        Pinot Gris   2017.0                    Sarver        853.0   \n",
       "17296  Portuguese White   2018.0  Dona Maria-JÃºlio Bastos          NaN   \n",
       "20741          Riesling   2020.0            Standing Stone          NaN   \n",
       "20759          Riesling   2020.0      Dr. Konstantin Frank          NaN   \n",
       "\n",
       "                                  normalized_descriptors  \\\n",
       "1397   [vibrant, lemon, orange_peel, passion_fruit, b...   \n",
       "1574   [lemon, passion_fruit, grapefruit, grass, pepp...   \n",
       "2200   [lemon, grass, lime_peel, juicy, juicy, vibran...   \n",
       "5235   [grapefruit_peel, ripe, apple, juicy, ripe, fr...   \n",
       "14569  [clean, crisp, fresh, light_bodied, ripe, appl...   \n",
       "17296  [bright, crisp, fresh, lemon, ripe, apple, zes...   \n",
       "20741  [fleshy, round, mandarin, lemon, apple, brisk,...   \n",
       "20759  [rocks, candy, lime_peel, juicy, apple, brisk,...   \n",
       "\n",
       "                                           review_vector  descriptor_count  \n",
       "1397   [[2.8647902, 1.5302587, -0.033676486, -3.38759...                 6  \n",
       "1574   [[1.965547, 0.53860503, 0.40735847, -2.9352913...                10  \n",
       "2200   [[1.6087463, 1.0612218, -0.40932602, -2.769603...                10  \n",
       "5235   [[1.4240388, 1.1182172, -0.78077286, -1.444150...                 7  \n",
       "14569  [[1.4699517, 0.7607697, -0.61051136, -2.670410...                 9  \n",
       "17296  [[1.1451691, 1.3819834, -0.31091353, -3.454142...                 8  \n",
       "20741  [[1.3178556, 1.0390282, -0.016134715, -2.17206...                10  \n",
       "20759  [[1.7350582, 0.6218662, 0.39827752, -2.4885185...                10  \n",
       "\n",
       "[8 rows x 27 columns]"
      ]
     },
     "execution_count": 29,
     "metadata": {},
     "output_type": "execute_result"
    }
   ],
   "source": [
    "wine_dataframe.loc[wine_dataframe[\"Name\"].isin([\"Aspen Peak 2019 Viognier (Grand Valley)\",\n",
    "                                               \"Dr. Konstantin Frank 2020 Eugenia Dry Riesling (Finger Lakes)\",\n",
    "                                               \"Dona Maria-JÃºlio Bastos 2018 Dona Maria Branco White (Alentejano)\",\n",
    "                                               \"Nick Goldschmidt 2021 Forefathers Sauvignon Blanc (Marlborough)\",\n",
    "                                               \"Echo Bay 2021 Sauvignon Blanc (Marlborough)\",\n",
    "                                               \"Standing Stone 2020 Timeline Dry Riesling (Seneca Lake)\",\n",
    "                                               \"FranÃ§ois Martenot 2019 Brut  (CrÃ©mant de Bourgogne)\",\n",
    "                                               \"Sarver 2017 Elhanan Vineyard Pinot Gris (Willamette Valley)\"])]"
   ]
  },
  {
   "cell_type": "code",
   "execution_count": 30,
   "metadata": {
    "tags": []
   },
   "outputs": [
    {
     "data": {
      "text/plain": [
       "'Aspen Peak 2019 Viognier (Grand Valley)'"
      ]
     },
     "execution_count": 30,
     "metadata": {},
     "output_type": "execute_result"
    }
   ],
   "source": [
    "wine_reviews_mincount.Name[1090]"
   ]
  },
  {
   "cell_type": "markdown",
   "metadata": {},
   "source": [
    "Great! It appears that the wines being returned as suggestions are also California Pinot Noir wines. Interestingly, many of these wines are even from the Santa Barbara area. The distinctive profile of these wines appears to be captured well by our wine recommender model. The most surprising suggestion returned by our model is a Washington State Cabernet Sauvignon. This cold-climate Cabernet appears have many of the same descriptors (herbs, flower, cherry) as our original (warm-climate) Pinot Noir wine.\n",
    "\n",
    "Finally, we can also use our wine recommender model to return a suggestion for a wine based on a list of input descriptors. This could be helpful when looking for similarities between wines, or when searching for a particular flavor profile. "
   ]
  },
  {
   "cell_type": "code",
   "execution_count": 31,
   "metadata": {
    "tags": []
   },
   "outputs": [
    {
     "name": "stdout",
     "output_type": "stream",
     "text": [
      "Suggestion 1 : Casas del Bosque 2020 La Cantera Botanic Series Sauvignon Blanc (Casablanca Valley) with a cosine distance of 0.085\n",
      "This wine has the following descriptors: ['complex', 'wet_rocks', 'lime', 'grass', 'light_bodied', 'peach', 'refreshing', 'white', 'citrus', 'herbacious', 'vibrant', 'minerality']\n",
      "\n",
      "Suggestion 2 : Cono Sur 2021 Bicicleta Reserva Sauvignon Blanc (Central Valley) with a cosine distance of 0.089\n",
      "This wine has the following descriptors: ['lime', 'grass', 'herbacious', 'citrus', 'fruit', 'light_bodied']\n",
      "\n",
      "Suggestion 3 : Stewart 2021 Sauvignon Blanc (Napa Valley) with a cosine distance of 0.101\n",
      "This wine has the following descriptors: ['steel', 'fruit', 'fresh', 'citrus', 'wet_rocks', 'melon', 'grass']\n",
      "\n",
      "Suggestion 4 : Tatomer 2019 Oliver's Riesling (Edna Valley) with a cosine distance of 0.102\n",
      "This wine has the following descriptors: ['grass', 'herb', 'citrus', 'light_bodied', 'complex', 'sizzling']\n",
      "\n",
      "Suggestion 5 : J. Lohr 2021 Flume Crossing Sauvignon Blanc (Arroyo Seco) with a cosine distance of 0.102\n",
      "This wine has the following descriptors: ['grass', 'crisp', 'lime', 'cement', 'fresh', 'grippy']\n",
      "\n"
     ]
    }
   ],
   "source": [
    "def descriptors_to_best_match_wines(list_of_descriptors, number_of_suggestions=10):\n",
    "    weighted_review_terms = []\n",
    "    for term in list_of_descriptors:\n",
    "        if term not in dict_of_tfidf_weightings:\n",
    "            if term not in descriptor_mapping.index:\n",
    "                print('choose a different descriptor from', term)\n",
    "                continue\n",
    "            else:\n",
    "                term = descriptor_mapping['normalized'][term]\n",
    "        tfidf_weighting = dict_of_tfidf_weightings[term]\n",
    "        word_vector = wine_word2vec_model.wv.get_vector(term).reshape(1, 300)\n",
    "        weighted_word_vector = tfidf_weighting * word_vector\n",
    "        weighted_review_terms.append(weighted_word_vector)\n",
    "    review_vector = sum(weighted_review_terms)\n",
    "    \n",
    "    distance, indice = model_knn.kneighbors(review_vector, n_neighbors=number_of_suggestions+1)\n",
    "    distance_list = distance[0].tolist()[1:]\n",
    "    indice_list = indice[0].tolist()[1:]\n",
    "\n",
    "    n = 1\n",
    "    for d, i in zip(distance_list, indice_list):\n",
    "        wine_name = wine_reviews_mincount['Name'][i]\n",
    "        wine_descriptors = wine_reviews_mincount['normalized_descriptors'][i]\n",
    "        print('Suggestion', str(n), ':', wine_name, 'with a cosine distance of', \"{:.3f}\".format(d))\n",
    "        print('This wine has the following descriptors:', wine_descriptors)\n",
    "        print('')\n",
    "        n+=1\n",
    "    \n",
    "descriptors = ['complex', 'high_acid', 'fresh', 'grass', 'lime']\n",
    "descriptors_to_best_match_wines(list_of_descriptors=descriptors, number_of_suggestions=5)"
   ]
  },
  {
   "cell_type": "code",
   "execution_count": null,
   "metadata": {},
   "outputs": [],
   "source": []
  },
  {
   "cell_type": "code",
   "execution_count": 32,
   "metadata": {
    "tags": []
   },
   "outputs": [
    {
     "name": "stdout",
     "output_type": "stream",
     "text": [
      "choose a different descriptor from acidic\n",
      "choose a different descriptor from lively\n",
      "choose a different descriptor from tasty\n",
      "choose a different descriptor from champagne\n",
      "Suggestion 1 : Sofia NV Sofia Blanc de Blancs Sparkling (Monterey County) with a cosine distance of 0.238\n",
      "This wine has the following descriptors: ['sparkling', 'melon_rind', 'lime_peel', 'chalk', 'pillowy', 'mousse']\n",
      "\n",
      "Suggestion 2 : Faire la FÃªte NV Brut Sparkling (CrÃ©mant de Limoux) with a cosine distance of 0.264\n",
      "This wine has the following descriptors: ['wet_rocks', 'tart', 'sparkling', 'chalk', 'tart', 'apple', 'wildflower', 'lemon_pith']\n",
      "\n",
      "Suggestion 3 : Trullo 2020 Riesling (Rheinhessen) with a cosine distance of 0.264\n",
      "This wine has the following descriptors: ['white_blossom', 'lime_peel', 'zippy', 'dry', 'steel', 'refreshing', 'white', 'cheese']\n",
      "\n",
      "Suggestion 4 : Five Fourteen Vineyards 2021 Estate Pinot Noir RosÃ© (Willamette Valley) with a cosine distance of 0.264\n",
      "This wine has the following descriptors: ['pale', 'pink', 'tingling', 'peach', 'strawberry', 'bubblegum']\n",
      "\n",
      "Suggestion 5 : Franco Serra 2021 FS Bianco White (Piemonte) with a cosine distance of 0.274\n",
      "This wine has the following descriptors: ['light_bodied', 'white', 'white_flower', 'lime_pith', 'lemon_peel', 'clean', 'pop']\n",
      "\n"
     ]
    }
   ],
   "source": [
    "# Words that non-experts (aka normies) would use\n",
    "descriptors_trial = ['watery', 'acidic', 'lively', 'tasty', 'champagne']\n",
    "descriptors_to_best_match_wines(list_of_descriptors=descriptors_trial, number_of_suggestions=5)"
   ]
  },
  {
   "cell_type": "markdown",
   "metadata": {},
   "source": [
    "When in the mood for a wine that is complex, acidic, fresh, grassy and limey, it appears that we should try a Chilean Sauvignon Blanc - 4 out of the 5 wines returned as suggestions fall in this category. Alternatively, a glass of Cava from Spain might hit the spot too.\n",
    "\n",
    "#### 6. Conclusion\n",
    "\n",
    "This notebook is an exercise in two parts. In the first part, we develop a robust method to generate a 'wine embedding' that captures all relevant information from a wine review, maps it onto a set of curated and standardized descriptors, assigns an embedding to each of these descriptors, weights each descriptor using a TF-IDF score and then aggregates the various descriptor vectors to produce a single 'wine embedding' for the full wine review. In the second part of this notebook, we start to explore ways in which we might use these newly created wine embeddings. One way to do this is through a wine recommender model, which measures the cosine distance between wine embeddings to make suggestions. Based on a few examples, we can see that the suggestions that are returned are remarkably consistent. This is a promising result that suggests there is much potential for wine embeddings to be used for future iterations of this work."
   ]
  },
  {
   "cell_type": "code",
   "execution_count": null,
   "metadata": {},
   "outputs": [],
   "source": []
  },
  {
   "cell_type": "markdown",
   "metadata": {},
   "source": [
    "# Saruul's trial space"
   ]
  },
  {
   "cell_type": "code",
   "execution_count": 33,
   "metadata": {
    "tags": []
   },
   "outputs": [],
   "source": [
    "level_3_words = list(descriptor_mapping.level_3.unique())"
   ]
  },
  {
   "cell_type": "code",
   "execution_count": 34,
   "metadata": {
    "tags": []
   },
   "outputs": [
    {
     "data": {
      "text/plain": [
       "653"
      ]
     },
     "execution_count": 34,
     "metadata": {},
     "output_type": "execute_result"
    }
   ],
   "source": [
    "len(level_3_words)"
   ]
  },
  {
   "cell_type": "code",
   "execution_count": 35,
   "metadata": {
    "tags": []
   },
   "outputs": [],
   "source": [
    "# Words Saruul really wanted to use\n",
    "descriptors_trial = ['aesthetic', 'acidic', 'lively', 'tasty', 'champagne', 'victorian']"
   ]
  },
  {
   "cell_type": "code",
   "execution_count": 36,
   "metadata": {
    "tags": []
   },
   "outputs": [],
   "source": [
    "from gensim.models import KeyedVectors\n",
    "import re\n",
    "\n",
    "# Load the pre-trained word embeddings model\n",
    "model = KeyedVectors.load_word2vec_format('../data/misc/glove_6B_50d.txt', binary=False, no_header=True)\n",
    "available_words = model.key_to_index"
   ]
  },
  {
   "cell_type": "code",
   "execution_count": 37,
   "metadata": {
    "tags": []
   },
   "outputs": [],
   "source": [
    "def find_closest_word(word, word_list):\n",
    "    # Check if the word exists in the model's vocabulary\n",
    "    if word not in model.key_to_index:\n",
    "        return \"Word not found in the vocabulary.\"\n",
    "\n",
    "    # Calculate the similarity scores between the given word and the words in the list\n",
    "    similarity_scores = {w: model.similarity(word, w) for w in word_list if w in available_words}\n",
    "    # Find the word with the highest similarity score\n",
    "    closest_word = max(similarity_scores, key=similarity_scores.get)\n",
    "\n",
    "    return closest_word\n",
    "\n",
    "def find_closest_wine_descriptors(word_list, wine_descriptor_list = level_3_words):\n",
    "    return [find_closest_word(word, wine_descriptor_list) for word in word_list]"
   ]
  },
  {
   "cell_type": "code",
   "execution_count": 38,
   "metadata": {
    "tags": []
   },
   "outputs": [],
   "source": [
    "wine_descriptors = find_closest_wine_descriptors(descriptors_trial)"
   ]
  },
  {
   "cell_type": "code",
   "execution_count": 39,
   "metadata": {
    "tags": []
   },
   "outputs": [
    {
     "name": "stdout",
     "output_type": "stream",
     "text": [
      "Suggestion 1 : Ca' del Bosco NV CuvÃ©e Prestige Extra Brut RosÃ© 43a Edizione Sparkling (Franciacorta) with a cosine distance of 0.231\n",
      "This wine has the following descriptors: ['violet', 'sparkling', 'vibrant', 'savory', 'dry', 'pomegranate']\n",
      "\n",
      "Suggestion 2 : SeaGlass 2021 RosÃ© (Monterey County) with a cosine distance of 0.244\n",
      "This wine has the following descriptors: ['pale', 'brisk', 'watermelon', 'chalk', 'orange', 'rose', 'round', 'watermelon']\n",
      "\n",
      "Suggestion 3 : Alta Alella 2016 Mirgin Exeo Paratge Qualificat Vallcirera Brut Nature Sparkling (Cava) with a cosine distance of 0.245\n",
      "This wine has the following descriptors: ['sparkling', 'yellow', 'flower', 'lemon', 'cake', 'rosewater', 'savory']\n",
      "\n",
      "Suggestion 4 : Ferrari 2016 PerlÃ© RosÃ© Riserva Sparkling (Trento) with a cosine distance of 0.257\n",
      "This wine has the following descriptors: ['tangy', 'brioche', 'alpine_herbs', 'elegant', 'sparkling', 'savory', 'pomegranate', 'cream', 'peach', 'bread_crust']\n",
      "\n",
      "Suggestion 5 : Bestheim NV Brut Premium Sparkling (CrÃ©mant d'Alsace) with a cosine distance of 0.268\n",
      "This wine has the following descriptors: ['apple', 'toffee', 'saffron', 'sparkling', 'austere', 'foamy', 'savory', 'minerality']\n",
      "\n"
     ]
    }
   ],
   "source": [
    "descriptors_to_best_match_wines(list_of_descriptors=wine_descriptors, number_of_suggestions=5)"
   ]
  },
  {
   "cell_type": "code",
   "execution_count": 41,
   "metadata": {
    "tags": []
   },
   "outputs": [
    {
     "data": {
      "text/plain": [
       "'yeshello'"
      ]
     },
     "execution_count": 41,
     "metadata": {},
     "output_type": "execute_result"
    }
   ],
   "source": [
    "\"\".join([\"yes\", \"hello\"])"
   ]
  }
 ],
 "metadata": {
  "kernelspec": {
   "display_name": "Python 3 (ipykernel)",
   "language": "python",
   "name": "python3"
  },
  "language_info": {
   "codemirror_mode": {
    "name": "ipython",
    "version": 3
   },
   "file_extension": ".py",
   "mimetype": "text/x-python",
   "name": "python",
   "nbconvert_exporter": "python",
   "pygments_lexer": "ipython3",
   "version": "3.9.4"
  }
 },
 "nbformat": 4,
 "nbformat_minor": 4
}
